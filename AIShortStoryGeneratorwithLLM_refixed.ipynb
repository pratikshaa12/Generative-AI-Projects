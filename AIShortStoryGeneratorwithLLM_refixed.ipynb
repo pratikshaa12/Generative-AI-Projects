{
  "nbformat": 4,
  "nbformat_minor": 0,
  "metadata": {
    "colab": {
      "provenance": [],
      "gpuType": "T4"
    },
    "kernelspec": {
      "name": "python3",
      "display_name": "Python 3"
    },
    "language_info": {
      "name": "python"
    },
    "accelerator": "GPU",
    "widgets": {
      "state": {},
      "version_major": 2,
      "version_minor": 0,
      "application/vnd.jupyter.widget-state+json": {
        "state": {},
        "version_major": 2,
        "version_minor": 0
      }
    }
  },
  "cells": [
    {
      "cell_type": "code",
      "execution_count": 1,
      "metadata": {
        "colab": {
          "base_uri": "https://localhost:8080/"
        },
        "id": "X5BJVnebEfxK",
        "outputId": "d41c0ce8-a521-451f-fe28-c26d67ece93d"
      },
      "outputs": [
        {
          "output_type": "stream",
          "name": "stdout",
          "text": [
            "Requirement already satisfied: transformers in /usr/local/lib/python3.11/dist-packages (4.51.1)\n",
            "Requirement already satisfied: filelock in /usr/local/lib/python3.11/dist-packages (from transformers) (3.18.0)\n",
            "Requirement already satisfied: huggingface-hub<1.0,>=0.30.0 in /usr/local/lib/python3.11/dist-packages (from transformers) (0.30.2)\n",
            "Requirement already satisfied: numpy>=1.17 in /usr/local/lib/python3.11/dist-packages (from transformers) (2.0.2)\n",
            "Requirement already satisfied: packaging>=20.0 in /usr/local/lib/python3.11/dist-packages (from transformers) (24.2)\n",
            "Requirement already satisfied: pyyaml>=5.1 in /usr/local/lib/python3.11/dist-packages (from transformers) (6.0.2)\n",
            "Requirement already satisfied: regex!=2019.12.17 in /usr/local/lib/python3.11/dist-packages (from transformers) (2024.11.6)\n",
            "Requirement already satisfied: requests in /usr/local/lib/python3.11/dist-packages (from transformers) (2.32.3)\n",
            "Requirement already satisfied: tokenizers<0.22,>=0.21 in /usr/local/lib/python3.11/dist-packages (from transformers) (0.21.1)\n",
            "Requirement already satisfied: safetensors>=0.4.3 in /usr/local/lib/python3.11/dist-packages (from transformers) (0.5.3)\n",
            "Requirement already satisfied: tqdm>=4.27 in /usr/local/lib/python3.11/dist-packages (from transformers) (4.67.1)\n",
            "Requirement already satisfied: fsspec>=2023.5.0 in /usr/local/lib/python3.11/dist-packages (from huggingface-hub<1.0,>=0.30.0->transformers) (2025.3.2)\n",
            "Requirement already satisfied: typing-extensions>=3.7.4.3 in /usr/local/lib/python3.11/dist-packages (from huggingface-hub<1.0,>=0.30.0->transformers) (4.13.1)\n",
            "Requirement already satisfied: charset-normalizer<4,>=2 in /usr/local/lib/python3.11/dist-packages (from requests->transformers) (3.4.1)\n",
            "Requirement already satisfied: idna<4,>=2.5 in /usr/local/lib/python3.11/dist-packages (from requests->transformers) (3.10)\n",
            "Requirement already satisfied: urllib3<3,>=1.21.1 in /usr/local/lib/python3.11/dist-packages (from requests->transformers) (2.3.0)\n",
            "Requirement already satisfied: certifi>=2017.4.17 in /usr/local/lib/python3.11/dist-packages (from requests->transformers) (2025.1.31)\n"
          ]
        }
      ],
      "source": [
        "pip install transformers"
      ]
    },
    {
      "cell_type": "code",
      "source": [
        "pip install textwrap3"
      ],
      "metadata": {
        "colab": {
          "base_uri": "https://localhost:8080/"
        },
        "id": "gOaSlOCeFC1-",
        "outputId": "c3cb4348-f9ea-4069-83b2-e2dee7be1752"
      },
      "execution_count": 2,
      "outputs": [
        {
          "output_type": "stream",
          "name": "stdout",
          "text": [
            "Collecting textwrap3\n",
            "  Downloading textwrap3-0.9.2-py2.py3-none-any.whl.metadata (4.6 kB)\n",
            "Downloading textwrap3-0.9.2-py2.py3-none-any.whl (12 kB)\n",
            "Installing collected packages: textwrap3\n",
            "Successfully installed textwrap3-0.9.2\n"
          ]
        }
      ]
    },
    {
      "cell_type": "code",
      "source": [
        "from transformers import AutoTokenizer, AutoModelForSeq2SeqLM, pipeline\n",
        "import textwrap"
      ],
      "metadata": {
        "id": "p5-F1wsBFHqp"
      },
      "execution_count": 3,
      "outputs": []
    },
    {
      "cell_type": "code",
      "source": [
        "model_name = \"google/flan-t5-large\"\n",
        "tokenizer = AutoTokenizer.from_pretrained(\"google/flan-t5-large\")\n",
        "model = AutoModelForSeq2SeqLM.from_pretrained(\"google/flan-t5-large\")\n",
        "\n",
        "def generate_short_story(topic):\n",
        "  story_generator = pipeline(\"text2text-generation\", model=model, tokenizer=tokenizer)\n",
        "  prompt = f\"Write a detailed,engaging, and original short story about {topic}.\"\n",
        "  story= story_generator(prompt,\n",
        "                         max_length=1034,\n",
        "                         num_return_sequences=1,\n",
        "                         do_sample=True,\n",
        "                         temperature=0.9,\n",
        "                         top_k=50,\n",
        "                         top_p=0.95\n",
        "                         )[0]['generated_text']\n",
        "  return \"\\n\".join(textwrap.wrap(story,width=80))\n",
        "if __name__ ==\"__main__\":\n",
        "  user_topic=input(\"Enter a topic for the short story:\")\n",
        "  print(\"\\Generated Short Story:\\n\")\n",
        "  print(generate_short_story(user_topic))"
      ],
      "metadata": {
        "colab": {
          "base_uri": "https://localhost:8080/",
          "height": 678,
          "referenced_widgets": [
            "4f2741bb8f99482ab591c9795992d8c0",
            "953b6a54dd664bb6a9276ed2b09d3ba9",
            "5c29e444096940c6b6a231e585842c4b",
            "8626b498805b4a7cbf15a39a9d75c48d",
            "060c1f6aa6bb429aa886ec6414386daf",
            "3a0cb6ca7d4b4d57807b11a37f7e810f",
            "38919202422a4f079005d0fa8e26e8cc",
            "8156d79b803e4b0b95a4e8c6bde90ece",
            "df023df3a7be436d9800d111bd29edf3",
            "fcb7a5d97b044e5ba9474feb0e9c7dc5",
            "e1f15be273884a4689be3796dab63e25",
            "2b19ecbd3d7845bf960999dcdaf11e5a",
            "daf5db7f5d6d4aa18e25384eb01441b5",
            "37c05fe6528d458aa74d9d2990f6a78e",
            "a62cbf15d38a4bfeb08b4bfbc1a4658f",
            "817055903ec54b2a91ebdfb536adf627",
            "2a923f90f8514140b9bcc50e806bb545",
            "7e827379213949959fbd2dc246573722",
            "c78b7bc25ec7471eb191ebbf7a9cb341",
            "09b5dd08ae6d48eeb8cb937964be46e1",
            "23f52bed660643a19f0ec87d97272cd7",
            "76ebac014b6f4681942766436afcfd3c",
            "a910a4159d4a4736aa6a315fcf476acb",
            "0d8db3e1e7124480b03a9f90d0ff889e",
            "f51c40c4fb064b45b5feb00dacf84599",
            "31a1223872214129b316daef27668a0d",
            "d02369b136174956a6b18ebd9fa26e67",
            "f426574d14cb4e1eb006095b69a81ba5",
            "2d636a5b8dd04a08bb0907f3dc769bf9",
            "d47090ceda8b48ec92778ec94ad2a814",
            "b8dfc8b142a8473ca8c47d48ee3e0809",
            "d652bfd0a10548a2b5de27b6e9297225",
            "f0186d8caaef4a8aa736c8fa0d1edc17",
            "1346419b086d4da8b3111967d28b6783",
            "5747a8dac8964f2ba5c4e6d5b34d7980",
            "59cfb1b514704ec7bb09532eee895e90",
            "dc18628c52d64c24b0821ba633ef7278",
            "222ea907299040ad97fedbadf1001801",
            "60857842346847f09afa6b41872da9b7",
            "312fe6d1467642b49d160fb8bae623ce",
            "b5ffb32034ab45dd8793488b229ae94c",
            "3785c26013d747c7a3bfbfe0f75dae11",
            "7d34113ffc24400386afe7cdc94ed52a",
            "88cab352685b4e61bd5dad95c7216a56",
            "6eac82459c6c471caf03e5698c419c87",
            "9527004d34e748fda4b9b1ce930ed149",
            "431166a37af0484fbaff373128dd54fe",
            "450f404eab7743459931180294ac9eb3",
            "edf27da64953400c839a59dfc55a3cdf",
            "3c8346985ccd4f65848b2f86d9393a30",
            "f83fb412851245728b52175ef3c01870",
            "7555d9ac3cbe40a9b4df158e787bebbe",
            "09a12925f52b43d9842114ea76e69971",
            "1ca902242b9d41c5927415b2b715b312",
            "7dc2c74a72d34a738da9f3f32de7d2be",
            "05aa3da5186341048c0c206674c96d3d",
            "e1db71bab9d043289dbf3bfa017dbff4",
            "ef46c5d24ebe487ca55eb3b1df70e59d",
            "674a6ac58a7643c690d65db105278169",
            "85f701c11d734f128b20a26021f81b09",
            "d8178e5abeaf4be5aa6f709d33b2415d",
            "63f881650af2445cb92a897cf4c4e586",
            "2d3747b4723148a9960f657688061cad",
            "39d06aa77b2645258660e36ac81b7108",
            "8c08a1e9a8b74f7881303af2fbd36f67",
            "44d447cf6aee46c68b69237e1eb742d3",
            "c2e86e749abf4c2684556a94cc27c8bf",
            "8193bf34457542d6a4949e5261c3b253",
            "b6eaaccd4012480cb317273157f12c64",
            "8a0c3b69ca914924beb60479b3434cbb",
            "a4470102823b4daf9bd6b27845b57ed6",
            "f8945cdf30614d678dfdb32f91e9314c",
            "55ed72c9594a4f20a77c1edca87615bd",
            "c7f47131016e411b87a9126301706334",
            "c02cc0d5d3db4c4483f9a62e994e022c",
            "4bf65f093cc547ca89d08b5d5ec69617",
            "1a1a0ce9f36546c0aa45d059d5d10e57"
          ]
        },
        "id": "JWmyYfSRFai4",
        "outputId": "edf82e45-6c3b-4e4b-f917-612c9440a98b"
      },
      "execution_count": 5,
      "outputs": [
        {
          "output_type": "display_data",
          "data": {
            "text/plain": [
              "tokenizer_config.json:   0%|          | 0.00/2.54k [00:00<?, ?B/s]"
            ],
            "application/vnd.jupyter.widget-view+json": {
              "version_major": 2,
              "version_minor": 0,
              "model_id": "4f2741bb8f99482ab591c9795992d8c0"
            }
          },
          "metadata": {}
        },
        {
          "output_type": "stream",
          "name": "stderr",
          "text": [
            "Xet Storage is enabled for this repo, but the 'hf_xet' package is not installed. Falling back to regular HTTP download. For better performance, install the package with: `pip install huggingface_hub[hf_xet]` or `pip install hf_xet`\n",
            "WARNING:huggingface_hub.file_download:Xet Storage is enabled for this repo, but the 'hf_xet' package is not installed. Falling back to regular HTTP download. For better performance, install the package with: `pip install huggingface_hub[hf_xet]` or `pip install hf_xet`\n"
          ]
        },
        {
          "output_type": "display_data",
          "data": {
            "text/plain": [
              "spiece.model:   0%|          | 0.00/792k [00:00<?, ?B/s]"
            ],
            "application/vnd.jupyter.widget-view+json": {
              "version_major": 2,
              "version_minor": 0,
              "model_id": "2b19ecbd3d7845bf960999dcdaf11e5a"
            }
          },
          "metadata": {}
        },
        {
          "output_type": "display_data",
          "data": {
            "text/plain": [
              "tokenizer.json:   0%|          | 0.00/2.42M [00:00<?, ?B/s]"
            ],
            "application/vnd.jupyter.widget-view+json": {
              "version_major": 2,
              "version_minor": 0,
              "model_id": "a910a4159d4a4736aa6a315fcf476acb"
            }
          },
          "metadata": {}
        },
        {
          "output_type": "display_data",
          "data": {
            "text/plain": [
              "special_tokens_map.json:   0%|          | 0.00/2.20k [00:00<?, ?B/s]"
            ],
            "application/vnd.jupyter.widget-view+json": {
              "version_major": 2,
              "version_minor": 0,
              "model_id": "1346419b086d4da8b3111967d28b6783"
            }
          },
          "metadata": {}
        },
        {
          "output_type": "display_data",
          "data": {
            "text/plain": [
              "config.json:   0%|          | 0.00/662 [00:00<?, ?B/s]"
            ],
            "application/vnd.jupyter.widget-view+json": {
              "version_major": 2,
              "version_minor": 0,
              "model_id": "6eac82459c6c471caf03e5698c419c87"
            }
          },
          "metadata": {}
        },
        {
          "output_type": "stream",
          "name": "stderr",
          "text": [
            "Xet Storage is enabled for this repo, but the 'hf_xet' package is not installed. Falling back to regular HTTP download. For better performance, install the package with: `pip install huggingface_hub[hf_xet]` or `pip install hf_xet`\n",
            "WARNING:huggingface_hub.file_download:Xet Storage is enabled for this repo, but the 'hf_xet' package is not installed. Falling back to regular HTTP download. For better performance, install the package with: `pip install huggingface_hub[hf_xet]` or `pip install hf_xet`\n"
          ]
        },
        {
          "output_type": "display_data",
          "data": {
            "text/plain": [
              "model.safetensors:   0%|          | 0.00/3.13G [00:00<?, ?B/s]"
            ],
            "application/vnd.jupyter.widget-view+json": {
              "version_major": 2,
              "version_minor": 0,
              "model_id": "05aa3da5186341048c0c206674c96d3d"
            }
          },
          "metadata": {}
        },
        {
          "output_type": "display_data",
          "data": {
            "text/plain": [
              "generation_config.json:   0%|          | 0.00/147 [00:00<?, ?B/s]"
            ],
            "application/vnd.jupyter.widget-view+json": {
              "version_major": 2,
              "version_minor": 0,
              "model_id": "c2e86e749abf4c2684556a94cc27c8bf"
            }
          },
          "metadata": {}
        },
        {
          "name": "stdout",
          "output_type": "stream",
          "text": [
            "Enter a topic for yhe short story:time travel\n"
          ]
        },
        {
          "output_type": "stream",
          "name": "stderr",
          "text": [
            "Device set to use cuda:0\n"
          ]
        },
        {
          "output_type": "stream",
          "name": "stdout",
          "text": [
            "\\Generated Short Story:\n",
            "\n",
            "When young Daniel wants to change the past to the present, he starts to think\n",
            "about the past, and eventually decides to travel to the past. Daniel's parents\n",
            "are going to leave him for a time in the future. However, they have other plans\n",
            "for him, as well. Daniel wants to get a promotion. Daniel's parents are going to\n",
            "hire a movie star, and they are trying to find the best actor to play him.\n",
            "Daniel's favorite part of the movie is when Daniel sees a girl's face changing\n",
            "from the present to the past. One of the biggest surprises is that Daniel's\n",
            "mother isn't there, and the girl's face makes Daniel think she is the actress\n",
            "who would play Daniel in the movie. When Daniel finds out, she starts to want to\n",
            "change the past so she can take his place. Daniel's mother gives Daniel an\n",
            "ultimatum: she can't go back to the future or he will get his girlfriend. Daniel\n",
            "agrees to come back in the present. Daniel tries to change the future, but it is\n",
            "in the past. He gets a job in a video rental store, and he realizes that he has\n",
            "to keep his mind in the present. He then decides to travel to the present, and\n",
            "does not remember the past. Daniel does not know how far he is willing to\n",
            "travel. He needs to choose between the present, the future, or just the past.\n"
          ]
        }
      ]
    },
    {
      "cell_type": "code",
      "source": [],
      "metadata": {
        "id": "RR9Sr2eMI8dV"
      },
      "execution_count": null,
      "outputs": []
    }
  ]
}